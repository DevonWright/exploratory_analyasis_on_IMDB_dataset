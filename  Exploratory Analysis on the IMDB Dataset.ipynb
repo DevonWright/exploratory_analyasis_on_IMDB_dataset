{
 "cells": [
  {
   "cell_type": "code",
   "execution_count": 2,
   "metadata": {},
   "outputs": [],
   "source": [
    "%matplotlib inline\n",
    "import numpy as np\n",
    "import pandas as pd\n",
    "import matplotlib.pyplot as plt"
   ]
  },
  {
   "cell_type": "code",
   "execution_count": 3,
   "metadata": {},
   "outputs": [
    {
     "data": {
      "text/plain": [
       "(5043, 28)"
      ]
     },
     "execution_count": 3,
     "metadata": {},
     "output_type": "execute_result"
    }
   ],
   "source": [
    "# Use 'read_csv' to injest dataset.\n",
    "movies = pd.read_csv('./Datasets/IMDB_Dataset.csv')\n",
    "movies.shape"
   ]
  },
  {
   "cell_type": "markdown",
   "metadata": {},
   "source": [
    "We have a dataset with over 5000 movies each with 28 features. Lets take a closer look at the features."
   ]
  },
  {
   "cell_type": "code",
   "execution_count": 4,
   "metadata": {},
   "outputs": [
    {
     "data": {
      "text/plain": [
       "Index(['color', 'director_name', 'num_critic_for_reviews', 'duration',\n",
       "       'director_facebook_likes', 'actor_3_facebook_likes', 'actor_2_name',\n",
       "       'actor_1_facebook_likes', 'gross', 'genres', 'actor_1_name',\n",
       "       'movie_title', 'num_voted_users', 'cast_total_facebook_likes',\n",
       "       'actor_3_name', 'facenumber_in_poster', 'plot_keywords',\n",
       "       'movie_imdb_link', 'num_user_for_reviews', 'language', 'country',\n",
       "       'content_rating', 'budget', 'title_year', 'actor_2_facebook_likes',\n",
       "       'imdb_score', 'aspect_ratio', 'movie_facebook_likes'],\n",
       "      dtype='object')"
      ]
     },
     "execution_count": 4,
     "metadata": {},
     "output_type": "execute_result"
    }
   ],
   "source": [
    "movies.columns"
   ]
  },
  {
   "cell_type": "markdown",
   "metadata": {},
   "source": [
    "There are a lot of interesting features here, but to get started I want to take a closer look at the 'imdb_score' and 'gross' features.\n",
    "\n",
    "Startin with 'imdb_score' well check if there are any null values, drop the null values, veiw the descriptive statistic and plot the distribution on a histogram."
   ]
  },
  {
   "cell_type": "code",
   "execution_count": 5,
   "metadata": {},
   "outputs": [
    {
     "data": {
      "text/plain": [
       "False"
      ]
     },
     "execution_count": 5,
     "metadata": {},
     "output_type": "execute_result"
    }
   ],
   "source": [
    "# Check for null values\n",
    "movies['imdb_score'].isnull().any()"
   ]
  },
  {
   "cell_type": "code",
   "execution_count": 6,
   "metadata": {},
   "outputs": [
    {
     "data": {
      "text/plain": [
       "count    5043.000000\n",
       "mean        6.442138\n",
       "std         1.125116\n",
       "min         1.600000\n",
       "25%         5.800000\n",
       "50%         6.600000\n",
       "75%         7.200000\n",
       "max         9.500000\n",
       "Name: imdb_score, dtype: float64"
      ]
     },
     "execution_count": 6,
     "metadata": {},
     "output_type": "execute_result"
    }
   ],
   "source": [
    "# View the descriptive statistics\n",
    "movies['imdb_score'].describe()"
   ]
  },
  {
   "cell_type": "markdown",
   "metadata": {},
   "source": [
    "It appears that the moives are scored on a scale from 1 to 10, but no movie in this dataset has recieve the lowest score of 1 or a perfect score of 10. Lets plot this scores to get a better visulization of how the scores are distributed."
   ]
  },
  {
   "cell_type": "code",
   "execution_count": 7,
   "metadata": {},
   "outputs": [
    {
     "data": {
      "text/plain": [
       "array([[<matplotlib.axes._subplots.AxesSubplot object at 0x000001CF15AE13C8>]],\n",
       "      dtype=object)"
      ]
     },
     "execution_count": 7,
     "metadata": {},
     "output_type": "execute_result"
    },
    {
     "data": {
      "image/png": "[encoded data removed]",
      "text/plain": [
       "<Figure size 720x360 with 1 Axes>"
      ]
     },
     "metadata": {
      "needs_background": "light"
     },
     "output_type": "display_data"
    }
   ],
   "source": [
    "# Plot \n",
    "movies.hist(column='imdb_score', figsize=(10,5))"
   ]
  },
  {
   "cell_type": "markdown",
   "metadata": {},
   "source": [
    "It looks like most movies are scored between 6 and 7. Not very many movie score an 8 or better.\n",
    "\n",
    "Lets continue on with the 'gross' feature."
   ]
  },
  {
   "cell_type": "code",
   "execution_count": 8,
   "metadata": {},
   "outputs": [
    {
     "data": {
      "text/plain": [
       "True"
      ]
     },
     "execution_count": 8,
     "metadata": {},
     "output_type": "execute_result"
    }
   ],
   "source": [
    "# Check for missing values.\n",
    "movies['gross'].isnull().any()"
   ]
  },
  {
   "cell_type": "code",
   "execution_count": 9,
   "metadata": {},
   "outputs": [],
   "source": [
    "# Drop the missing values.\n",
    "movies.dropna(inplace=True, subset=['gross'])"
   ]
  },
  {
   "cell_type": "code",
   "execution_count": 10,
   "metadata": {},
   "outputs": [
    {
     "data": {
      "text/plain": [
       "count    4.159000e+03\n",
       "mean     4.846841e+07\n",
       "std      6.845299e+07\n",
       "min      1.620000e+02\n",
       "25%      5.340988e+06\n",
       "50%      2.551750e+07\n",
       "75%      6.230944e+07\n",
       "max      7.605058e+08\n",
       "Name: gross, dtype: float64"
      ]
     },
     "execution_count": 10,
     "metadata": {},
     "output_type": "execute_result"
    }
   ],
   "source": [
    "movies['gross'].describe()"
   ]
  },
  {
   "cell_type": "markdown",
   "metadata": {},
   "source": [
    "We have a min value of 162 and a max value of 760,505,800 with the average movie grossing 48,468,410."
   ]
  },
  {
   "cell_type": "code",
   "execution_count": 11,
   "metadata": {},
   "outputs": [
    {
     "data": {
      "text/plain": [
       "array([[<matplotlib.axes._subplots.AxesSubplot object at 0x000001CF16409BE0>]],\n",
       "      dtype=object)"
      ]
     },
     "execution_count": 11,
     "metadata": {},
     "output_type": "execute_result"
    },
    {
     "data": {
      "image/png": "[encoded data removed]",
      "text/plain": [
       "<Figure size 720x360 with 1 Axes>"
      ]
     },
     "metadata": {
      "needs_background": "light"
     },
     "output_type": "display_data"
    }
   ],
   "source": [
    "# Plot \n",
    "movies.hist(column='gross', figsize=(10,5))"
   ]
  },
  {
   "cell_type": "markdown",
   "metadata": {},
   "source": [
    "We can see very few movies gross above $100,000. I wanna see if there are any movie genres that preform better at the box office and/or have better IMBD scores than others. We'll start by looking at the movie genres and selcting a few we want to analyze."
   ]
  },
  {
   "cell_type": "code",
   "execution_count": 12,
   "metadata": {},
   "outputs": [
    {
     "data": {
      "text/plain": [
       "0    Action|Adventure|Fantasy|Sci-Fi\n",
       "1           Action|Adventure|Fantasy\n",
       "2          Action|Adventure|Thriller\n",
       "3                    Action|Thriller\n",
       "5            Action|Adventure|Sci-Fi\n",
       "Name: genres, dtype: object"
      ]
     },
     "execution_count": 12,
     "metadata": {},
     "output_type": "execute_result"
    }
   ],
   "source": [
    "movies[\"genres\"].head()"
   ]
  },
  {
   "cell_type": "markdown",
   "metadata": {},
   "source": [
    "Values are seperated by '|' lets go ahead and take the genres and put them in a list so we can see all of the possible genres."
   ]
  },
  {
   "cell_type": "code",
   "execution_count": 13,
   "metadata": {},
   "outputs": [
    {
     "name": "stdout",
     "output_type": "stream",
     "text": [
      "['Sci-Fi', 'Fantasy', 'Western', 'Mystery', 'War', 'Film-Noir', 'Crime', 'Musical', 'History', 'Drama', 'Comedy', 'Action', 'News', 'Animation', 'Thriller', 'Music', 'Biography', 'Romance', 'Family', 'Documentary', 'Horror', 'Short', 'Adventure', 'Sport']\n"
     ]
    }
   ],
   "source": [
    "genres = list(set([genre for row in movies['genres'] for genre in row.split('|')]))\n",
    "print(genres)"
   ]
  },
  {
   "cell_type": "markdown",
   "metadata": {},
   "source": [
    "Im going to take a look at the 'Sci-Fi', 'Comedy' and 'Thriller' genres and see which ones preform better at the box. We'll start by creating a few filters."
   ]
  },
  {
   "cell_type": "code",
   "execution_count": 14,
   "metadata": {},
   "outputs": [],
   "source": [
    "scifi_filter = movies[\"genres\"].str.contains(\"Sci-Fi\")\n",
    "comedy_filter = movies[\"genres\"].str.contains(\"Comedy\")\n",
    "thriller_filter = movies[\"genres\"].str.contains(\"Thriller\")"
   ]
  },
  {
   "cell_type": "markdown",
   "metadata": {},
   "source": [
    "Lets plot the imdb_scores of the three genres."
   ]
  },
  {
   "cell_type": "code",
   "execution_count": 15,
   "metadata": {},
   "outputs": [
    {
     "data": {
      "text/plain": [
       "Text(0.5, 1.0, 'Thriller IMDB Scores')"
      ]
     },
     "execution_count": 15,
     "metadata": {},
     "output_type": "execute_result"
    },
    {
     "data": {
      "image/png": "[encoded data removed]",
      "text/plain": [
       "<Figure size 1440x360 with 3 Axes>"
      ]
     },
     "metadata": {
      "needs_background": "light"
     },
     "output_type": "display_data"
    }
   ],
   "source": [
    "x1 = movies[scifi_filter]['imdb_score']\n",
    "x2 = movies[comedy_filter]['imdb_score']\n",
    "x3 = movies[thriller_filter]['imdb_score']\n",
    "\n",
    "bins = np.linspace(0, 10, 100)\n",
    "\n",
    "fig = plt.figure(figsize=(20,5))\n",
    "ax = fig.add_subplot(131)\n",
    "ax2 = fig.add_subplot(132)\n",
    "ax3 = fig.add_subplot(133)\n",
    "\n",
    "ax.hist(x1, bins)\n",
    "ax2.hist(x2, bins)\n",
    "ax3.hist(x3, bins)\n",
    "\n",
    "ax.set_title('Sci-Fi IMDB Scores')\n",
    "ax2.set_title('Comedy IMDB Scores')\n",
    "ax3.set_title('Thriller IMDB Scores')"
   ]
  },
  {
   "cell_type": "markdown",
   "metadata": {},
   "source": [
    "They look similar but it kind of hard to tell when they are side by side so lets plot them all on one graph and take a look at the mean of them."
   ]
  },
  {
   "cell_type": "code",
   "execution_count": 16,
   "metadata": {},
   "outputs": [
    {
     "data": {
      "image/png": "[encoded data removed]",
      "text/plain": [
       "<Figure size 720x576 with 1 Axes>"
      ]
     },
     "metadata": {
      "needs_background": "light"
     },
     "output_type": "display_data"
    },
    {
     "name": "stdout",
     "output_type": "stream",
     "text": [
      "Average IMDB score of Sci-Fi movies:  6.3245579567779915\n",
      "Average IMDB score of Comedy movies:  6.188300492610848\n",
      "Average IMDB score of Thriller movies:  6.381041844577295\n"
     ]
    }
   ],
   "source": [
    "plt.figure(figsize=(10,8))\n",
    "plt.hist(x2, bins, alpha=0.7, label='Comedy', range=(0,10))\n",
    "plt.hist(x3, bins, alpha=0.7, label='Thriller', range=(0,10))\n",
    "plt.hist(x1, bins, alpha=0.7, label='Sci-Fi', range=(0,10))\n",
    "plt.legend(loc='upper right')\n",
    "plt.show()\n",
    "\n",
    "print('Average IMDB score of Sci-Fi movies: ', movies[scifi_filter]['imdb_score'].mean())\n",
    "print('Average IMDB score of Comedy movies: ', movies[comedy_filter]['imdb_score'].mean())\n",
    "print('Average IMDB score of Thriller movies: ', movies[thriller_filter]['imdb_score'].mean())"
   ]
  },
  {
   "cell_type": "markdown",
   "metadata": {},
   "source": [
    "Even though the comedy and thriller genres have more movies than the sci-fi. Each genre has very close average scores. Lets see what percentage of each genre has scores above or equal to 8."
   ]
  },
  {
   "cell_type": "code",
   "execution_count": 50,
   "metadata": {},
   "outputs": [
    {
     "name": "stdout",
     "output_type": "stream",
     "text": [
      "Sci-Fi: 7.07 %\n",
      "Comedy: 1.97 %\n",
      "Thriller: 4.1 %\n"
     ]
    },
    {
     "name": "stderr",
     "output_type": "stream",
     "text": [
      "C:\\Users\\Devon\\Anaconda3\\lib\\site-packages\\ipykernel_launcher.py:4: UserWarning: Boolean Series key will be reindexed to match DataFrame index.\n",
      "  after removing the cwd from sys.path.\n",
      "C:\\Users\\Devon\\Anaconda3\\lib\\site-packages\\ipykernel_launcher.py:5: UserWarning: Boolean Series key will be reindexed to match DataFrame index.\n",
      "  \"\"\"\n",
      "C:\\Users\\Devon\\Anaconda3\\lib\\site-packages\\ipykernel_launcher.py:6: UserWarning: Boolean Series key will be reindexed to match DataFrame index.\n",
      "  \n"
     ]
    }
   ],
   "source": [
    "# Filter for movies >= 8\n",
    "highly_rated = movies[\"imdb_score\"] >= 8\n",
    "\n",
    "print(\"Sci-Fi:\", round(len(movies[highly_rated][scifi_filter]) / len(movies[scifi_filter])*100, 2), \"%\")\n",
    "print(\"Comedy:\", round(len(movies[highly_rated][comedy_filter]) / len(movies[comedy_filter])*100, 2), \"%\")\n",
    "print(\"Thriller:\", round(len(movies[highly_rated][thriller_filter]) / len(movies[thriller_filter])*100, 2), \"%\")"
   ]
  },
  {
   "cell_type": "markdown",
   "metadata": {},
   "source": [
    "Coming in at 7%, Sci-Fi has the highest precentage of movies that are rated 8 or better. Thriller is second with 4% and comdey is last with only 2% of film scoring an 8 or better."
   ]
  },
  {
   "cell_type": "markdown",
   "metadata": {},
   "source": [
    "Lets see which movie genre performs best at the box office. First we will look at the average gross of a movie from each genre then we will see what pecentage of each genres grosses over 100,000,000"
   ]
  },
  {
   "cell_type": "code",
   "execution_count": 45,
   "metadata": {},
   "outputs": [
    {
     "name": "stdout",
     "output_type": "stream",
     "text": [
      "Average gross of a Sci-Fi movies: $82,244,105.74\n",
      "Average gross of a Comedy movies: $47,683,480.20\n",
      "Average gross of a Thriller movies: $46,890,571.63\n"
     ]
    }
   ],
   "source": [
    "print('Average gross of a Sci-Fi movies: ${:,.2f}'.format(movies[scifi_filter]['gross'].mean()))\n",
    "print('Average gross of a Comedy movies: ${:,.2f}'.format(movies[comedy_filter]['gross'].mean()))\n",
    "print('Average gross of a Thriller movies: ${:,.2f}'.format(movies[thriller_filter]['gross'].mean()))"
   ]
  },
  {
   "cell_type": "markdown",
   "metadata": {},
   "source": [
    "We can see that Comedy and Thriller genres come very close to the average gross for all movies of 48,468,410. Sci-Fi on the  other had is above, averaging about 82 million per movie. Why is this? Lets look at what pecentage of movies grosses over 100 million for each genre."
   ]
  },
  {
   "cell_type": "code",
   "execution_count": 49,
   "metadata": {},
   "outputs": [
    {
     "name": "stdout",
     "output_type": "stream",
     "text": [
      "Sci-Fi: 26.92 %\n",
      "Comedy: 15.39 %\n",
      "Thriller: 12.72 %\n"
     ]
    },
    {
     "name": "stderr",
     "output_type": "stream",
     "text": [
      "C:\\Users\\Devon\\Anaconda3\\lib\\site-packages\\ipykernel_launcher.py:4: UserWarning: Boolean Series key will be reindexed to match DataFrame index.\n",
      "  after removing the cwd from sys.path.\n",
      "C:\\Users\\Devon\\Anaconda3\\lib\\site-packages\\ipykernel_launcher.py:5: UserWarning: Boolean Series key will be reindexed to match DataFrame index.\n",
      "  \"\"\"\n",
      "C:\\Users\\Devon\\Anaconda3\\lib\\site-packages\\ipykernel_launcher.py:6: UserWarning: Boolean Series key will be reindexed to match DataFrame index.\n",
      "  \n"
     ]
    }
   ],
   "source": [
    "# Filter for movies >= 8\n",
    "high_gross = movies[\"gross\"] >= 100000000\n",
    "\n",
    "print(\"Sci-Fi:\", round(len(movies[high_gross][scifi_filter]) / len(movies[scifi_filter])*100, 2), \"%\")\n",
    "print(\"Comedy:\", round(len(movies[high_gross][comedy_filter]) / len(movies[comedy_filter])*100, 2), \"%\")\n",
    "print(\"Thriller:\", round(len(movies[high_gross][thriller_filter]) / len(movies[thriller_filter])*100, 2), \"%\")"
   ]
  },
  {
   "cell_type": "markdown",
   "metadata": {},
   "source": [
    "Over 25% of all Sci-Fi movies gross over 100 million. Where only 15% and 12% of Comedy and Thriller movies do."
   ]
  }
 ],
 "metadata": {
  "kernelspec": {
   "display_name": "Python 3",
   "language": "python",
   "name": "python3"
  },
  "language_info": {
   "codemirror_mode": {
    "name": "ipython",
    "version": 3
   },
   "file_extension": ".py",
   "mimetype": "text/x-python",
   "name": "python",
   "nbconvert_exporter": "python",
   "pygments_lexer": "ipython3",
   "version": "3.7.3"
  }
 },
 "nbformat": 4,
 "nbformat_minor": 2
}
